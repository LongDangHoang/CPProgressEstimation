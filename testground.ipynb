{
 "metadata": {
  "language_info": {
   "codemirror_mode": {
    "name": "ipython",
    "version": 3
   },
   "file_extension": ".py",
   "mimetype": "text/x-python",
   "name": "python",
   "nbconvert_exporter": "python",
   "pygments_lexer": "ipython3",
   "version": "3.8.5-final"
  },
  "orig_nbformat": 2,
  "kernelspec": {
   "name": "python3",
   "display_name": "Python 3",
   "language": "python"
  }
 },
 "nbformat": 4,
 "nbformat_minor": 2,
 "cells": [
  {
   "cell_type": "code",
   "execution_count": 1,
   "metadata": {},
   "outputs": [],
   "source": [
    "import pandas as pd"
   ]
  },
  {
   "cell_type": "code",
   "execution_count": 2,
   "metadata": {},
   "outputs": [],
   "source": [
    "from helper import to_df"
   ]
  },
  {
   "cell_type": "code",
   "execution_count": 6,
   "metadata": {},
   "outputs": [],
   "source": [
    "def uniform_scheme(node_id: int, nodes_df: pd.DataFrame) -> float:\n",
    "    \"\"\" Assign uniform weight \"\"\"\n",
    "    return 1 / nodes_df.loc[nodes_df.loc[node_id, 'ParentID'], 'NKids']"
   ]
  },
  {
   "cell_type": "code",
   "execution_count": 18,
   "metadata": {},
   "outputs": [
    {
     "output_type": "execute_result",
     "data": {
      "text/plain": [
       "        ParentID  Alternative  NKids  Status        Label\n",
       "NodeID                                                   \n",
       "0             -1           -1      4       2             \n",
       "1              0            0      7       2  mark[2] = 1\n",
       "2              0            1      0       3             \n",
       "3              0            2      0       3             \n",
       "4              0            3      0       3             \n",
       "5              1            0      0       0  mark[3] = 3\n",
       "6              1            1      0       3             \n",
       "7              1            2      0       3             \n",
       "8              1            3      0       3             \n",
       "9              1            4      0       3             \n",
       "10             1            5      0       3             \n",
       "11             1            6      0       3             "
      ],
      "text/html": "<div>\n<style scoped>\n    .dataframe tbody tr th:only-of-type {\n        vertical-align: middle;\n    }\n\n    .dataframe tbody tr th {\n        vertical-align: top;\n    }\n\n    .dataframe thead th {\n        text-align: right;\n    }\n</style>\n<table border=\"1\" class=\"dataframe\">\n  <thead>\n    <tr style=\"text-align: right;\">\n      <th></th>\n      <th>ParentID</th>\n      <th>Alternative</th>\n      <th>NKids</th>\n      <th>Status</th>\n      <th>Label</th>\n    </tr>\n    <tr>\n      <th>NodeID</th>\n      <th></th>\n      <th></th>\n      <th></th>\n      <th></th>\n      <th></th>\n    </tr>\n  </thead>\n  <tbody>\n    <tr>\n      <th>0</th>\n      <td>-1</td>\n      <td>-1</td>\n      <td>4</td>\n      <td>2</td>\n      <td></td>\n    </tr>\n    <tr>\n      <th>1</th>\n      <td>0</td>\n      <td>0</td>\n      <td>7</td>\n      <td>2</td>\n      <td>mark[2] = 1</td>\n    </tr>\n    <tr>\n      <th>2</th>\n      <td>0</td>\n      <td>1</td>\n      <td>0</td>\n      <td>3</td>\n      <td></td>\n    </tr>\n    <tr>\n      <th>3</th>\n      <td>0</td>\n      <td>2</td>\n      <td>0</td>\n      <td>3</td>\n      <td></td>\n    </tr>\n    <tr>\n      <th>4</th>\n      <td>0</td>\n      <td>3</td>\n      <td>0</td>\n      <td>3</td>\n      <td></td>\n    </tr>\n    <tr>\n      <th>5</th>\n      <td>1</td>\n      <td>0</td>\n      <td>0</td>\n      <td>0</td>\n      <td>mark[3] = 3</td>\n    </tr>\n    <tr>\n      <th>6</th>\n      <td>1</td>\n      <td>1</td>\n      <td>0</td>\n      <td>3</td>\n      <td></td>\n    </tr>\n    <tr>\n      <th>7</th>\n      <td>1</td>\n      <td>2</td>\n      <td>0</td>\n      <td>3</td>\n      <td></td>\n    </tr>\n    <tr>\n      <th>8</th>\n      <td>1</td>\n      <td>3</td>\n      <td>0</td>\n      <td>3</td>\n      <td></td>\n    </tr>\n    <tr>\n      <th>9</th>\n      <td>1</td>\n      <td>4</td>\n      <td>0</td>\n      <td>3</td>\n      <td></td>\n    </tr>\n    <tr>\n      <th>10</th>\n      <td>1</td>\n      <td>5</td>\n      <td>0</td>\n      <td>3</td>\n      <td></td>\n    </tr>\n    <tr>\n      <th>11</th>\n      <td>1</td>\n      <td>6</td>\n      <td>0</td>\n      <td>3</td>\n      <td></td>\n    </tr>\n  </tbody>\n</table>\n</div>"
     },
     "metadata": {},
     "execution_count": 18
    }
   ],
   "source": [
    "tree = './trees/golomb_3.sqlite'\n",
    "nodes_df = to_df(tree, 'nodes').set_index('NodeID')\n",
    "nodes_df"
   ]
  },
  {
   "cell_type": "code",
   "execution_count": 23,
   "metadata": {},
   "outputs": [
    {
     "output_type": "stream",
     "name": "stdout",
     "text": [
      "NodeID\n0     1.0\n1     0.0\n2     0.0\n3     0.0\n4     0.0\n5     0.0\n6     0.0\n7     0.0\n8     0.0\n9     0.0\n10    0.0\n11    0.0\nName: NodeWeight, dtype: float64\nSum of all leaves weights:  0.0\n"
     ]
    }
   ],
   "source": [
    "nodes_df['NodeWeight'] = 0\n",
    "nodes_df.loc[0, 'NodeWeight'] = 1 # root node has weight 1\n",
    "nodes_df.loc[nodes_df[nodes_df['ParentID'] == 0].index, 'NodeWeight'] = 1 / nodes_df.loc[0, 'NKids']\n",
    "next_ids = [nodes_df[nodes_df['ParentID'] == 0].index]\n",
    "\n",
    "i, j = 0, 0\n",
    "\n",
    "# propogate weights down\n",
    "while i < len(next_ids):\n",
    "    par_node = next_ids[i][j]\n",
    "    if nodes_df.loc[par_node, 'NKids'] > 0:\n",
    "        nodes_df.loc[nodes_df['ParentID'] == par_node, 'NodeWeight'] = \\\n",
    "                                nodes_df.loc[par_node, 'NodeWeight'] / nodes_df.loc[par_node, 'NKids']\n",
    "\n",
    "        # print(f'i = {i}, j = {j}, len(next_ids) = {len(next_ids)}')\n",
    "        next_ids.append(nodes_df[nodes_df['ParentID'] == par_node].index)\n",
    "    j += 1\n",
    "    if j >= len(next_ids[i]): \n",
    "        j = 0\n",
    "        i += 1\n",
    "\n",
    "\n",
    "\n",
    "## debug:\n",
    "print(nodes_df['NodeWeight'])\n",
    "print(\"Sum of all leaves weights: \", nodes_df[nodes_df['Status'].isin({1, 0, 3})]['NodeWeight'].sum())"
   ]
  },
  {
   "cell_type": "code",
   "execution_count": null,
   "metadata": {},
   "outputs": [],
   "source": []
  },
  {
   "cell_type": "code",
   "execution_count": null,
   "metadata": {},
   "outputs": [],
   "source": []
  },
  {
   "cell_type": "code",
   "execution_count": null,
   "metadata": {},
   "outputs": [],
   "source": []
  },
  {
   "cell_type": "code",
   "execution_count": null,
   "metadata": {},
   "outputs": [],
   "source": []
  }
 ]
}