{
 "metadata": {
  "language_info": {
   "codemirror_mode": {
    "name": "ipython",
    "version": 3
   },
   "file_extension": ".py",
   "mimetype": "text/x-python",
   "name": "python",
   "nbconvert_exporter": "python",
   "pygments_lexer": "ipython3",
   "version": "3.8.5-final"
  },
  "orig_nbformat": 2,
  "kernelspec": {
   "name": "python3",
   "display_name": "Python 3",
   "language": "python"
  }
 },
 "nbformat": 4,
 "nbformat_minor": 2,
 "cells": [
  {
   "cell_type": "code",
   "execution_count": 1,
   "metadata": {},
   "outputs": [],
   "source": [
    "import pandas as pd\n",
    "import matplotlib.pyplot as plt\n",
    "\n",
    "from helper import to_df"
   ]
  },
  {
   "cell_type": "code",
   "execution_count": 2,
   "metadata": {},
   "outputs": [],
   "source": [
    "def uniform_scheme(node_id: int, nodes_df: pd.DataFrame) -> float:\n",
    "    \"\"\" Assign uniform weights \"\"\"\n",
    "    return [1 / nodes_df.loc[node_id, 'NKids'] for i in range(nodes_df.loc[node_id, 'NKids'])]"
   ]
  },
  {
   "cell_type": "code",
   "execution_count": 3,
   "metadata": {},
   "outputs": [
    {
     "output_type": "stream",
     "name": "stdout",
     "text": [
      "(190, 5)\nCPU times: user 113 ms, sys: 2.11 ms, total: 115 ms\nWall time: 135 ms\n"
     ]
    }
   ],
   "source": [
    "%%time\n",
    "tree = './trees/golomb_6.sqlite'\n",
    "nodes_df = to_df(tree, 'nodes').set_index('NodeID')\n",
    "print(nodes_df.shape)\n",
    "\n",
    "nodes_df['NodeWeight'] = 0\n",
    "nodes_df.loc[0, 'NodeWeight'] = 1 # root node has weight 1\n",
    "i = 0\n",
    "\n",
    "# propogate weights down\n",
    "while i < nodes_df.shape[0] - 1:\n",
    "\n",
    "    par_weight = nodes_df.loc[i, 'NodeWeight']\n",
    "    num_kids = nodes_df.loc[i, 'NKids']\n",
    "    if num_kids > 0:\n",
    "        weights = uniform_scheme(i, nodes_df)\n",
    "        assert len(weights) == num_kids\n",
    "        nodes_df.loc[nodes_df['ParentID'] == i, 'NodeWeight'] = par_weight * \\\n",
    "                                nodes_df[nodes_df['ParentID'] == i]['Alternative'].apply(lambda x: weights[x]) \n",
    "    i += 1"
   ]
  },
  {
   "cell_type": "code",
   "execution_count": null,
   "metadata": {},
   "outputs": [],
   "source": [
    "dfs_ordering = [0]\n",
    "visited = set([0])\n",
    "boundary = nodes_df[nodes_df['ParentID'] == 0].sort_values('Alternative', ascending=False).index.to_list()\n",
    "\n",
    "# run simulated dfs on tree\n",
    "while len(boundary) > 0:\n",
    "    nxt = boundary.pop()\n",
    "    # tree, so nxt will not be in either visited or boundary\n",
    "    dfs_ordering.append(nxt)\n",
    "    boundary.extend(nodes_df[nodes_df['ParentID'] == nxt].sort_values('Alternative', ascending=False).index.to_list())\n",
    "\n",
    "\n",
    "\n"
   ]
  },
  {
   "cell_type": "code",
   "execution_count": null,
   "metadata": {},
   "outputs": [],
   "source": [
    "cumulative = nodes_df.set_index(dfs_ordering)\\\n",
    "                    [nodes_df['Status'].isin({1, 0, 3})]['NodeWeight']\\\n",
    "                    .cumsum()\\\n",
    "                    .reindex(list(range(1, nodes_df.shape[0]+1)), method='ffill')\\\n",
    "                    .fillna(0)\n",
    "\n",
    "x = range(1, nodes_df.shape[0] + 1)\n",
    "plt.plot(pd.Series(x) / nodes_df.shape[0], label='Ground Truth')\n",
    "plt.plot(cumulative, label='Uniform weight')\n",
    "plt.legend()\n",
    "plt.show()"
   ]
  },
  {
   "cell_type": "code",
   "execution_count": null,
   "metadata": {},
   "outputs": [],
   "source": []
  },
  {
   "cell_type": "code",
   "execution_count": null,
   "metadata": {},
   "outputs": [],
   "source": []
  },
  {
   "cell_type": "code",
   "execution_count": null,
   "metadata": {},
   "outputs": [],
   "source": []
  }
 ]
}