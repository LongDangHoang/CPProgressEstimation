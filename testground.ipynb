{
 "cells": [
  {
   "cell_type": "code",
   "execution_count": 1,
   "metadata": {},
   "outputs": [],
   "source": [
    "import pandas as pd\n",
    "import json\n",
    "import matplotlib.pyplot as plt\n",
    "import os\n",
    "import scipy.sparse as sparse\n",
    "from test import *\n",
    "\n",
    "from itertools import chain\n",
    "from pathlib import *\n",
    "from math import ceil\n",
    "from sqlalchemy import create_engine\n",
    "from pandarallel import pandarallel\n",
    "\n",
    "from test import *\n",
    "from helper import *\n",
    "from tree_weight import *\n",
    "from time import time\n",
    "from main import make_graph_from_tree\n",
    "from multiprocessing import *\n",
    "\n",
    "from typing import List\n",
    "%matplotlib inline"
   ]
  },
  {
   "cell_type": "code",
   "execution_count": 2,
   "metadata": {},
   "outputs": [
    {
     "name": "stdout",
     "output_type": "stream",
     "text": [
      "INFO: Pandarallel will run on 3 workers.\n",
      "INFO: Pandarallel will use Memory file system to transfer data between the main process and workers.\n"
     ]
    }
   ],
   "source": [
    "pandarallel.initialize(nb_workers=cpu_count() - 1, progress_bar=True)"
   ]
  },
  {
   "cell_type": "code",
   "execution_count": 11,
   "metadata": {},
   "outputs": [],
   "source": [
    "image_folder = 'graphs/'\n",
    "tree = 'benchmark_models/golomb/trees/09.sqlite'\n",
    "info_df = to_df(tree, 'info').set_index('NodeID')\n",
    "nodes_df = to_df(tree, 'nodes').set_index('NodeID')\n",
    "\n",
    "mappings = pd.read_csv('benchmark_models/golomb/trees/09.csv', header=None, quotechar=\"'\")\n",
    "map_dict = mappings.set_index(0).to_dict()[1]\n",
    "map_dict.update(mappings.set_index(1).to_dict()[0])"
   ]
  },
  {
   "cell_type": "code",
   "execution_count": 3,
   "metadata": {},
   "outputs": [
    {
     "name": "stdout",
     "output_type": "stream",
     "text": [
      "(31283, 11)\n"
     ]
    }
   ],
   "source": [
    "image_folder = 'graphs/'\n",
    "tree = 'benchmark_models/mario/trees/mario_easy_3.sqlite'\n",
    "info_df = to_df(tree, 'info').set_index('NodeID')\n",
    "nodes_df = to_df(tree, 'nodes').set_index('NodeID')\n",
    "\n",
    "mappings = pd.read_csv(tree.replace('.sqlite', '.csv'), header=None, quotechar=\"'\")\n",
    "map_dict = mappings.set_index(0).to_dict()[1]\n",
    "map_dict.update(mappings.set_index(1).to_dict()[0])\n",
    "\n",
    "print(nodes_df.shape)\n",
    "\n",
    "# if 'SubtreeSize' not in nodes_df:\n",
    "#     calculate_subtree_size(nodes_df)\n",
    "#     to_sqlite(nodes_df, tree)\n",
    "\n",
    "# valid_df = nodes_df[nodes_df['Status'] != 3]\n",
    "\n",
    "def get_split_var(row, mappings=None):\n",
    "    node_idx = row.name\n",
    "    par_idx = valid_df.loc[node_idx, 'ParentID']\n",
    "    if par_idx == - 1:\n",
    "        return None\n",
    "    cands, _, par_domain, children_domain = find_split_variable(par_idx, valid_df, info_df, mappings)\n",
    "    return cands[0] if len(cands) == 1 else None\n",
    "\n",
    "def get_parent_column(column: str, df: pd.DataFrame) -> pd.Series:\n",
    "    has_root = 1 if 0 == df.index[0] else 0\n",
    "    j = df.iloc[has_root:, :].reset_index().set_index('ParentID')[['NodeID', column]]\n",
    "    j.loc[:, column] = df.loc[df.iloc[has_root:, :]['ParentID'], column]    \n",
    "    return j.reset_index().set_index('NodeID')[column]\n",
    "    \n",
    "# valid_df.loc[:, 'SplitVariable'] = valid_df.apply(get_split_var, axis=1, mappings=map_dict)\n",
    "# valid_df.loc[:, 'SubtreeSizeWeight'] = valid_df['SubtreeSize'] / get_parent_column('SubtreeSize', valid_df)\n",
    "# valid_df.loc[:, 'SearchSpaceWeight'] = valid_df['SearchSpaceNodeWeight'] / get_parent_column('SearchSpaceNodeWeight', valid_df)"
   ]
  },
  {
   "cell_type": "code",
   "execution_count": 30,
   "metadata": {},
   "outputs": [],
   "source": [
    "valid_df = nodes_df[nodes_df['Status'] != 3]\n",
    "\n",
    "# use vectorized string to get names of labels\n",
    "node_label = valid_df['Label'].str.split('=', expand=True)[0].str.strip('! ').rename('LabelVarname')\n",
    "node_label = node_label[node_label != '']\n",
    "# use indexing to map nodes' labels names to info's domain names\n",
    "info_label = node_label.reset_index().set_index('LabelVarname')\n",
    "info_label['LabelName'] = mappings.set_index(1)[0]\n",
    "info_label = info_label.set_index('NodeID')\n",
    "# assign parent id to extract parent's domain for split variable\n",
    "info_label['ParentID'] = valid_df['ParentID']\n",
    "info_label = info_label.drop_duplicates('ParentID')\n",
    "info_label = info_label.set_index('ParentID').reset_index().rename(columns={'ParentID': 'NodeID'}).set_index('NodeID')"
   ]
  },
  {
   "cell_type": "code",
   "execution_count": 31,
   "metadata": {},
   "outputs": [
    {
     "data": {
      "text/html": [
       "<div>\n",
       "<style scoped>\n",
       "    .dataframe tbody tr th:only-of-type {\n",
       "        vertical-align: middle;\n",
       "    }\n",
       "\n",
       "    .dataframe tbody tr th {\n",
       "        vertical-align: top;\n",
       "    }\n",
       "\n",
       "    .dataframe thead th {\n",
       "        text-align: right;\n",
       "    }\n",
       "</style>\n",
       "<table border=\"1\" class=\"dataframe\">\n",
       "  <thead>\n",
       "    <tr style=\"text-align: right;\">\n",
       "      <th></th>\n",
       "      <th>LabelName</th>\n",
       "    </tr>\n",
       "    <tr>\n",
       "      <th>NodeID</th>\n",
       "      <th></th>\n",
       "    </tr>\n",
       "  </thead>\n",
       "  <tbody>\n",
       "    <tr>\n",
       "      <th>0</th>\n",
       "      <td>X_INTRODUCED_0_</td>\n",
       "    </tr>\n",
       "    <tr>\n",
       "      <th>1</th>\n",
       "      <td>X_INTRODUCED_2_</td>\n",
       "    </tr>\n",
       "    <tr>\n",
       "      <th>3</th>\n",
       "      <td>X_INTRODUCED_3_</td>\n",
       "    </tr>\n",
       "    <tr>\n",
       "      <th>5</th>\n",
       "      <td>X_INTRODUCED_4_</td>\n",
       "    </tr>\n",
       "    <tr>\n",
       "      <th>7</th>\n",
       "      <td>X_INTRODUCED_5_</td>\n",
       "    </tr>\n",
       "    <tr>\n",
       "      <th>...</th>\n",
       "      <td>...</td>\n",
       "    </tr>\n",
       "    <tr>\n",
       "      <th>31271</th>\n",
       "      <td>X_INTRODUCED_3_</td>\n",
       "    </tr>\n",
       "    <tr>\n",
       "      <th>31273</th>\n",
       "      <td>X_INTRODUCED_6_</td>\n",
       "    </tr>\n",
       "    <tr>\n",
       "      <th>31274</th>\n",
       "      <td>X_INTRODUCED_3_</td>\n",
       "    </tr>\n",
       "    <tr>\n",
       "      <th>31278</th>\n",
       "      <td>X_INTRODUCED_3_</td>\n",
       "    </tr>\n",
       "    <tr>\n",
       "      <th>31216</th>\n",
       "      <td>X_INTRODUCED_0_</td>\n",
       "    </tr>\n",
       "  </tbody>\n",
       "</table>\n",
       "<p>15641 rows × 1 columns</p>\n",
       "</div>"
      ],
      "text/plain": [
       "              LabelName\n",
       "NodeID                 \n",
       "0       X_INTRODUCED_0_\n",
       "1       X_INTRODUCED_2_\n",
       "3       X_INTRODUCED_3_\n",
       "5       X_INTRODUCED_4_\n",
       "7       X_INTRODUCED_5_\n",
       "...                 ...\n",
       "31271   X_INTRODUCED_3_\n",
       "31273   X_INTRODUCED_6_\n",
       "31274   X_INTRODUCED_3_\n",
       "31278   X_INTRODUCED_3_\n",
       "31216   X_INTRODUCED_0_\n",
       "\n",
       "[15641 rows x 1 columns]"
      ]
     },
     "execution_count": 31,
     "metadata": {},
     "output_type": "execute_result"
    }
   ],
   "source": [
    "info_label"
   ]
  },
  {
   "cell_type": "code",
   "execution_count": 32,
   "metadata": {},
   "outputs": [
    {
     "data": {
      "application/vnd.jupyter.widget-view+json": {
       "model_id": "61c654a34fb648768f54ab1d2be3806b",
       "version_major": 2,
       "version_minor": 0
      },
      "text/plain": [
       "VBox(children=(HBox(children=(IntProgress(value=0, description='0.00%', max=5214), Label(value='0 / 5214'))), …"
      ]
     },
     "metadata": {},
     "output_type": "display_data"
    }
   ],
   "source": [
    "info_df['Label'] = info_label['LabelName']\n",
    "# get parent's domain size of split variables of children\n",
    "parent_domain_size = info_df[info_df['Label'].notna()].parallel_apply(lambda row: len(parse_info_string(row['Info'], early_stop=row['Label'])), axis=1).rename('DomainSize')"
   ]
  },
  {
   "cell_type": "code",
   "execution_count": 34,
   "metadata": {},
   "outputs": [
    {
     "data": {
      "text/plain": [
       "NodeID\n",
       "0        694\n",
       "1        694\n",
       "2        693\n",
       "3        684\n",
       "4        684\n",
       "        ... \n",
       "31268      1\n",
       "31271      1\n",
       "31273      1\n",
       "31274      1\n",
       "31278      1\n",
       "Name: DomainSize, Length: 15641, dtype: int64"
      ]
     },
     "execution_count": 34,
     "metadata": {},
     "output_type": "execute_result"
    }
   ],
   "source": [
    "# (valid_df['Label'].str.find('!') > 0)\n",
    "parent_domain_size"
   ]
  },
  {
   "cell_type": "code",
   "execution_count": 122,
   "metadata": {},
   "outputs": [
    {
     "data": {
      "text/plain": [
       "Series([], Name: Weight, dtype: float64)"
      ]
     },
     "execution_count": 122,
     "metadata": {},
     "output_type": "execute_result"
    }
   ],
   "source": [
    "k = 0.9\n",
    "res_df = pd.DataFrame.copy(valid_df.iloc[1:, :])\n",
    "res_df['Weight'] = np.random.random(res_df.shape[0])\n",
    "parent_mean = res_df.groupby('ParentID').mean()['Weight']\n",
    "parent_count = res_df.groupby('ParentID').count()['Weight']\n",
    "\n",
    "# index swap\n",
    "res_df = res_df.reset_index().set_index('ParentID')\n",
    "res_df.loc[:, 'Mean'] = parent_mean\n",
    "res_df.loc[:, 'Count'] = parent_count\n",
    "res_df = res_df.reset_index().set_index('NodeID')\n",
    "res_df.loc[:, 'Weight'] = res_df['Weight'] - res_df['Mean'] + k / res_df['Count']\n",
    "j = res_df.groupby(['ParentID']).sum()['Weight']\n",
    "j[abs(j - k) > 1e-10]"
   ]
  },
  {
   "cell_type": "code",
   "execution_count": 119,
   "metadata": {},
   "outputs": [
    {
     "data": {
      "text/html": [
       "<div>\n",
       "<style scoped>\n",
       "    .dataframe tbody tr th:only-of-type {\n",
       "        vertical-align: middle;\n",
       "    }\n",
       "\n",
       "    .dataframe tbody tr th {\n",
       "        vertical-align: top;\n",
       "    }\n",
       "\n",
       "    .dataframe thead th {\n",
       "        text-align: right;\n",
       "    }\n",
       "</style>\n",
       "<table border=\"1\" class=\"dataframe\">\n",
       "  <thead>\n",
       "    <tr style=\"text-align: right;\">\n",
       "      <th></th>\n",
       "      <th>ParentID</th>\n",
       "      <th>HasUnequalSplit</th>\n",
       "      <th>ParentDomainSize</th>\n",
       "      <th>Weight</th>\n",
       "    </tr>\n",
       "    <tr>\n",
       "      <th>NodeID</th>\n",
       "      <th></th>\n",
       "      <th></th>\n",
       "      <th></th>\n",
       "      <th></th>\n",
       "    </tr>\n",
       "  </thead>\n",
       "  <tbody>\n",
       "    <tr>\n",
       "      <th>1</th>\n",
       "      <td>0</td>\n",
       "      <td>False</td>\n",
       "      <td>694</td>\n",
       "      <td>0.001441</td>\n",
       "    </tr>\n",
       "    <tr>\n",
       "      <th>2</th>\n",
       "      <td>0</td>\n",
       "      <td>True</td>\n",
       "      <td>694</td>\n",
       "      <td>0.998559</td>\n",
       "    </tr>\n",
       "    <tr>\n",
       "      <th>3</th>\n",
       "      <td>1</td>\n",
       "      <td>False</td>\n",
       "      <td>694</td>\n",
       "      <td>0.001441</td>\n",
       "    </tr>\n",
       "    <tr>\n",
       "      <th>4</th>\n",
       "      <td>1</td>\n",
       "      <td>True</td>\n",
       "      <td>694</td>\n",
       "      <td>0.998559</td>\n",
       "    </tr>\n",
       "    <tr>\n",
       "      <th>5</th>\n",
       "      <td>3</td>\n",
       "      <td>False</td>\n",
       "      <td>684</td>\n",
       "      <td>0.001462</td>\n",
       "    </tr>\n",
       "    <tr>\n",
       "      <th>...</th>\n",
       "      <td>...</td>\n",
       "      <td>...</td>\n",
       "      <td>...</td>\n",
       "      <td>...</td>\n",
       "    </tr>\n",
       "    <tr>\n",
       "      <th>31278</th>\n",
       "      <td>31274</td>\n",
       "      <td>True</td>\n",
       "      <td>1</td>\n",
       "      <td>0.000000</td>\n",
       "    </tr>\n",
       "    <tr>\n",
       "      <th>31279</th>\n",
       "      <td>31278</td>\n",
       "      <td>False</td>\n",
       "      <td>1</td>\n",
       "      <td>1.000000</td>\n",
       "    </tr>\n",
       "    <tr>\n",
       "      <th>31280</th>\n",
       "      <td>31278</td>\n",
       "      <td>True</td>\n",
       "      <td>1</td>\n",
       "      <td>0.000000</td>\n",
       "    </tr>\n",
       "    <tr>\n",
       "      <th>31281</th>\n",
       "      <td>31216</td>\n",
       "      <td>False</td>\n",
       "      <td>1</td>\n",
       "      <td>1.000000</td>\n",
       "    </tr>\n",
       "    <tr>\n",
       "      <th>31282</th>\n",
       "      <td>31216</td>\n",
       "      <td>True</td>\n",
       "      <td>1</td>\n",
       "      <td>0.000000</td>\n",
       "    </tr>\n",
       "  </tbody>\n",
       "</table>\n",
       "<p>31212 rows × 4 columns</p>\n",
       "</div>"
      ],
      "text/plain": [
       "        ParentID  HasUnequalSplit  ParentDomainSize    Weight\n",
       "NodeID                                                       \n",
       "1              0            False               694  0.001441\n",
       "2              0             True               694  0.998559\n",
       "3              1            False               694  0.001441\n",
       "4              1             True               694  0.998559\n",
       "5              3            False               684  0.001462\n",
       "...          ...              ...               ...       ...\n",
       "31278      31274             True                 1  0.000000\n",
       "31279      31278            False                 1  1.000000\n",
       "31280      31278             True                 1  0.000000\n",
       "31281      31216            False                 1  1.000000\n",
       "31282      31216             True                 1  0.000000\n",
       "\n",
       "[31212 rows x 4 columns]"
      ]
     },
     "execution_count": 119,
     "metadata": {},
     "output_type": "execute_result"
    }
   ],
   "source": [
    "weights = valid_df[['ParentID', 'HasUnequalSplit']].reset_index().set_index('ParentID').iloc[1:,:]\n",
    "weights.loc[:, 'ParentDomainSize'] = parent_domain_size\n",
    "weights = weights.reset_index().set_index('NodeID')\n",
    "weights['Weight'] = 1 / weights['ParentDomainSize'] + weights['HasUnequalSplit'] * (1 - 2 / weights['ParentDomainSize'])\n",
    "weights.drop(columns)"
   ]
  },
  {
   "cell_type": "code",
   "execution_count": 48,
   "metadata": {},
   "outputs": [
    {
     "data": {
      "text/plain": [
       "array([0.00144092, 0.99855908, 0.00144092, ..., 0.        , 1.        ,\n",
       "       0.        ])"
      ]
     },
     "execution_count": 48,
     "metadata": {},
     "output_type": "execute_result"
    }
   ],
   "source": [
    "weights"
   ]
  },
  {
   "cell_type": "code",
   "execution_count": 10,
   "metadata": {},
   "outputs": [
    {
     "data": {
      "text/html": [
       "<div>\n",
       "<style scoped>\n",
       "    .dataframe tbody tr th:only-of-type {\n",
       "        vertical-align: middle;\n",
       "    }\n",
       "\n",
       "    .dataframe tbody tr th {\n",
       "        vertical-align: top;\n",
       "    }\n",
       "\n",
       "    .dataframe thead th {\n",
       "        text-align: right;\n",
       "    }\n",
       "</style>\n",
       "<table border=\"1\" class=\"dataframe\">\n",
       "  <thead>\n",
       "    <tr style=\"text-align: right;\">\n",
       "      <th></th>\n",
       "      <th>Info</th>\n",
       "      <th>label</th>\n",
       "    </tr>\n",
       "    <tr>\n",
       "      <th>NodeID</th>\n",
       "      <th></th>\n",
       "      <th></th>\n",
       "    </tr>\n",
       "  </thead>\n",
       "  <tbody>\n",
       "    <tr>\n",
       "      <th>0</th>\n",
       "      <td>{'objective': {0, 1, 2, 3, 4, 5, 6, 7, 8, 9, 1...</td>\n",
       "      <td>NaN</td>\n",
       "    </tr>\n",
       "    <tr>\n",
       "      <th>1</th>\n",
       "      <td>{'objective': {0, 1, 2, 3, 4, 5, 6, 7, 8, 9, 1...</td>\n",
       "      <td>X_INTRODUCED_0_</td>\n",
       "    </tr>\n",
       "    <tr>\n",
       "      <th>2</th>\n",
       "      <td>{'objective': {1, 2, 3, 4, 5, 6, 7, 8, 9, 10, ...</td>\n",
       "      <td>X_INTRODUCED_0_</td>\n",
       "    </tr>\n",
       "    <tr>\n",
       "      <th>3</th>\n",
       "      <td>{'objective': {0, 1, 2, 3, 4, 5, 6, 7, 8, 9, 1...</td>\n",
       "      <td>X_INTRODUCED_2_</td>\n",
       "    </tr>\n",
       "    <tr>\n",
       "      <th>4</th>\n",
       "      <td>{'objective': {10, 11, 12, 13, 14, 15, 16, 17,...</td>\n",
       "      <td>X_INTRODUCED_2_</td>\n",
       "    </tr>\n",
       "    <tr>\n",
       "      <th>...</th>\n",
       "      <td>...</td>\n",
       "      <td>...</td>\n",
       "    </tr>\n",
       "    <tr>\n",
       "      <th>31278</th>\n",
       "      <td>{'objective': {693}, 'fuel': {1542, 1543, 1544...</td>\n",
       "      <td>X_INTRODUCED_3_</td>\n",
       "    </tr>\n",
       "    <tr>\n",
       "      <th>31279</th>\n",
       "      <td>{'objective': {693}, 'fuel': {1984, 1985, 1986...</td>\n",
       "      <td>X_INTRODUCED_3_</td>\n",
       "    </tr>\n",
       "    <tr>\n",
       "      <th>31280</th>\n",
       "      <td>{'objective': {693}, 'fuel': {1938, 1939, 1940...</td>\n",
       "      <td>X_INTRODUCED_3_</td>\n",
       "    </tr>\n",
       "    <tr>\n",
       "      <th>31281</th>\n",
       "      <td>{'objective': {693}, 'fuel': {1926, 1927, 1928...</td>\n",
       "      <td>X_INTRODUCED_0_</td>\n",
       "    </tr>\n",
       "    <tr>\n",
       "      <th>31282</th>\n",
       "      <td>{'objective': {693}, 'fuel': {1783, 1784, 1785...</td>\n",
       "      <td>X_INTRODUCED_0_</td>\n",
       "    </tr>\n",
       "  </tbody>\n",
       "</table>\n",
       "<p>31213 rows × 2 columns</p>\n",
       "</div>"
      ],
      "text/plain": [
       "                                                     Info            label\n",
       "NodeID                                                                    \n",
       "0       {'objective': {0, 1, 2, 3, 4, 5, 6, 7, 8, 9, 1...              NaN\n",
       "1       {'objective': {0, 1, 2, 3, 4, 5, 6, 7, 8, 9, 1...  X_INTRODUCED_0_\n",
       "2       {'objective': {1, 2, 3, 4, 5, 6, 7, 8, 9, 10, ...  X_INTRODUCED_0_\n",
       "3       {'objective': {0, 1, 2, 3, 4, 5, 6, 7, 8, 9, 1...  X_INTRODUCED_2_\n",
       "4       {'objective': {10, 11, 12, 13, 14, 15, 16, 17,...  X_INTRODUCED_2_\n",
       "...                                                   ...              ...\n",
       "31278   {'objective': {693}, 'fuel': {1542, 1543, 1544...  X_INTRODUCED_3_\n",
       "31279   {'objective': {693}, 'fuel': {1984, 1985, 1986...  X_INTRODUCED_3_\n",
       "31280   {'objective': {693}, 'fuel': {1938, 1939, 1940...  X_INTRODUCED_3_\n",
       "31281   {'objective': {693}, 'fuel': {1926, 1927, 1928...  X_INTRODUCED_0_\n",
       "31282   {'objective': {693}, 'fuel': {1783, 1784, 1785...  X_INTRODUCED_0_\n",
       "\n",
       "[31213 rows x 2 columns]"
      ]
     },
     "execution_count": 10,
     "metadata": {},
     "output_type": "execute_result"
    }
   ],
   "source": [
    "domains"
   ]
  },
  {
   "cell_type": "code",
   "execution_count": 14,
   "metadata": {},
   "outputs": [
    {
     "ename": "ModuleNotFoundError",
     "evalue": "No module named 'ipywidgets'",
     "output_type": "error",
     "traceback": [
      "\u001b[0;31m---------------------------------------------------------------------------\u001b[0m",
      "\u001b[0;31mModuleNotFoundError\u001b[0m                       Traceback (most recent call last)",
      "\u001b[0;32m<ipython-input-14-058cf53ead72>\u001b[0m in \u001b[0;36m<module>\u001b[0;34m\u001b[0m\n\u001b[0;32m----> 1\u001b[0;31m \u001b[0mnodeSplitVarDomain\u001b[0m \u001b[0;34m=\u001b[0m \u001b[0mdomains\u001b[0m\u001b[0;34m.\u001b[0m\u001b[0miloc\u001b[0m\u001b[0;34m[\u001b[0m\u001b[0;36m1\u001b[0m\u001b[0;34m:\u001b[0m\u001b[0;34m,\u001b[0m\u001b[0;34m:\u001b[0m\u001b[0;34m]\u001b[0m\u001b[0;34m.\u001b[0m\u001b[0mparallel_apply\u001b[0m\u001b[0;34m(\u001b[0m\u001b[0;32mlambda\u001b[0m \u001b[0mr\u001b[0m\u001b[0;34m:\u001b[0m \u001b[0mlen\u001b[0m\u001b[0;34m(\u001b[0m\u001b[0mr\u001b[0m\u001b[0;34m[\u001b[0m\u001b[0;34m'Info'\u001b[0m\u001b[0;34m]\u001b[0m\u001b[0;34m[\u001b[0m\u001b[0mr\u001b[0m\u001b[0;34m[\u001b[0m\u001b[0;34m'label'\u001b[0m\u001b[0;34m]\u001b[0m\u001b[0;34m]\u001b[0m\u001b[0;34m)\u001b[0m\u001b[0;34m,\u001b[0m \u001b[0maxis\u001b[0m\u001b[0;34m=\u001b[0m\u001b[0;36m1\u001b[0m\u001b[0;34m)\u001b[0m\u001b[0;34m\u001b[0m\u001b[0;34m\u001b[0m\u001b[0m\n\u001b[0m",
      "\u001b[0;32m~/miniconda3/envs/datasci/lib/python3.8/site-packages/pandarallel/pandarallel.py\u001b[0m in \u001b[0;36mclosure\u001b[0;34m(data, func, *args, **kwargs)\u001b[0m\n\u001b[1;32m    451\u001b[0m             \u001b[0mpool\u001b[0m\u001b[0;34m.\u001b[0m\u001b[0mclose\u001b[0m\u001b[0;34m(\u001b[0m\u001b[0;34m)\u001b[0m\u001b[0;34m\u001b[0m\u001b[0;34m\u001b[0m\u001b[0m\n\u001b[1;32m    452\u001b[0m \u001b[0;34m\u001b[0m\u001b[0m\n\u001b[0;32m--> 453\u001b[0;31m             results = get_workers_result(\n\u001b[0m\u001b[1;32m    454\u001b[0m                 \u001b[0muse_memory_fs\u001b[0m\u001b[0;34m,\u001b[0m\u001b[0;34m\u001b[0m\u001b[0;34m\u001b[0m\u001b[0m\n\u001b[1;32m    455\u001b[0m                 \u001b[0mnb_workers\u001b[0m\u001b[0;34m,\u001b[0m\u001b[0;34m\u001b[0m\u001b[0;34m\u001b[0m\u001b[0m\n",
      "\u001b[0;32m~/miniconda3/envs/datasci/lib/python3.8/site-packages/pandarallel/pandarallel.py\u001b[0m in \u001b[0;36mget_workers_result\u001b[0;34m(use_memory_fs, nb_workers, show_progress_bar, nb_columns, queue, chunk_lengths, input_files, output_files, map_result)\u001b[0m\n\u001b[1;32m    355\u001b[0m             ]\n\u001b[1;32m    356\u001b[0m \u001b[0;34m\u001b[0m\u001b[0m\n\u001b[0;32m--> 357\u001b[0;31m         \u001b[0mprogress_bars\u001b[0m \u001b[0;34m=\u001b[0m \u001b[0mget_progress_bars\u001b[0m\u001b[0;34m(\u001b[0m\u001b[0mchunk_lengths\u001b[0m\u001b[0;34m)\u001b[0m\u001b[0;34m\u001b[0m\u001b[0;34m\u001b[0m\u001b[0m\n\u001b[0m\u001b[1;32m    358\u001b[0m \u001b[0;34m\u001b[0m\u001b[0m\n\u001b[1;32m    359\u001b[0m         \u001b[0mprogresses\u001b[0m \u001b[0;34m=\u001b[0m \u001b[0;34m[\u001b[0m\u001b[0;36m0\u001b[0m\u001b[0;34m]\u001b[0m \u001b[0;34m*\u001b[0m \u001b[0mnb_workers\u001b[0m\u001b[0;34m\u001b[0m\u001b[0;34m\u001b[0m\u001b[0m\n",
      "\u001b[0;32m~/miniconda3/envs/datasci/lib/python3.8/site-packages/pandarallel/utils/progress_bars.py\u001b[0m in \u001b[0;36mget_progress_bars\u001b[0;34m(maxs)\u001b[0m\n\u001b[1;32m     24\u001b[0m \u001b[0;32mdef\u001b[0m \u001b[0mget_progress_bars\u001b[0m\u001b[0;34m(\u001b[0m\u001b[0mmaxs\u001b[0m\u001b[0;34m)\u001b[0m\u001b[0;34m:\u001b[0m\u001b[0;34m\u001b[0m\u001b[0;34m\u001b[0m\u001b[0m\n\u001b[1;32m     25\u001b[0m     return (\n\u001b[0;32m---> 26\u001b[0;31m         \u001b[0mProgressBarsNotebookLab\u001b[0m\u001b[0;34m(\u001b[0m\u001b[0mmaxs\u001b[0m\u001b[0;34m)\u001b[0m\u001b[0;34m\u001b[0m\u001b[0;34m\u001b[0m\u001b[0m\n\u001b[0m\u001b[1;32m     27\u001b[0m         \u001b[0;32mif\u001b[0m \u001b[0mis_notebook_lab\u001b[0m\u001b[0;34m(\u001b[0m\u001b[0;34m)\u001b[0m\u001b[0;34m\u001b[0m\u001b[0;34m\u001b[0m\u001b[0m\n\u001b[1;32m     28\u001b[0m         \u001b[0;32melse\u001b[0m \u001b[0mProgressBarsConsole\u001b[0m\u001b[0;34m(\u001b[0m\u001b[0mmaxs\u001b[0m\u001b[0;34m)\u001b[0m\u001b[0;34m\u001b[0m\u001b[0;34m\u001b[0m\u001b[0m\n",
      "\u001b[0;32m~/miniconda3/envs/datasci/lib/python3.8/site-packages/pandarallel/utils/progress_bars.py\u001b[0m in \u001b[0;36m__init__\u001b[0;34m(self, maxs)\u001b[0m\n\u001b[1;32m     96\u001b[0m         \"\"\"\n\u001b[1;32m     97\u001b[0m         \u001b[0;32mfrom\u001b[0m \u001b[0mIPython\u001b[0m\u001b[0;34m.\u001b[0m\u001b[0mdisplay\u001b[0m \u001b[0;32mimport\u001b[0m \u001b[0mdisplay\u001b[0m\u001b[0;34m\u001b[0m\u001b[0;34m\u001b[0m\u001b[0m\n\u001b[0;32m---> 98\u001b[0;31m         \u001b[0;32mfrom\u001b[0m \u001b[0mipywidgets\u001b[0m \u001b[0;32mimport\u001b[0m \u001b[0mHBox\u001b[0m\u001b[0;34m,\u001b[0m \u001b[0mVBox\u001b[0m\u001b[0;34m,\u001b[0m \u001b[0mIntProgress\u001b[0m\u001b[0;34m,\u001b[0m \u001b[0mLabel\u001b[0m\u001b[0;34m\u001b[0m\u001b[0;34m\u001b[0m\u001b[0m\n\u001b[0m\u001b[1;32m     99\u001b[0m \u001b[0;34m\u001b[0m\u001b[0m\n\u001b[1;32m    100\u001b[0m         self.__bars = [\n",
      "\u001b[0;31mModuleNotFoundError\u001b[0m: No module named 'ipywidgets'"
     ]
    }
   ],
   "source": [
    "nodeSplitVarDomain = domains.iloc[1:,:].parallel_apply(lambda r: len(r['Info'][r['label']]), axis=1)"
   ]
  },
  {
   "cell_type": "code",
   "execution_count": null,
   "metadata": {},
   "outputs": [],
   "source": [
    "domains['parentLabel'] = get_parent_column('label', domains)"
   ]
  },
  {
   "cell_type": "code",
   "execution_count": null,
   "metadata": {},
   "outputs": [],
   "source": [
    "domains"
   ]
  },
  {
   "cell_type": "code",
   "execution_count": null,
   "metadata": {},
   "outputs": [],
   "source": [
    "print(info_df.shape)"
   ]
  }
 ],
 "metadata": {
  "kernelspec": {
   "display_name": "Python 3",
   "language": "python",
   "name": "python3"
  },
  "language_info": {
   "codemirror_mode": {
    "name": "ipython",
    "version": 3
   },
   "file_extension": ".py",
   "mimetype": "text/x-python",
   "name": "python",
   "nbconvert_exporter": "python",
   "pygments_lexer": "ipython3",
   "version": "3.8.5"
  }
 },
 "nbformat": 4,
 "nbformat_minor": 2
}
